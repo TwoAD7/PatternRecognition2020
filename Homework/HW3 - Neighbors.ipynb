{
 "cells": [
  {
   "cell_type": "markdown",
   "metadata": {},
   "source": [
    "Name: Dr D  \n",
    "Class: PHYS453 - Pattern Recognition \n",
    "Date: Spring 2020\n",
    "\n",
    "# HW3 - Won't You Be My Neighbor? \n",
    "In this assignment you will write your own simplified version of a Nearest Neighbors classifier and test it out on the famous Iris dataset. The code for loading our data is below--use it without modifications.  You need to perform a few tasks to convince me that your classifier works.\n",
    "\n",
    "## Libraries"
   ]
  },
  {
   "cell_type": "code",
   "execution_count": 1,
   "metadata": {},
   "outputs": [],
   "source": [
    "import pandas as pd\n",
    "import seaborn as sns\n",
    "import matplotlib.pyplot as plt\n",
    "import numpy as np\n",
    "\n",
    "%matplotlib inline"
   ]
  },
  {
   "cell_type": "markdown",
   "metadata": {},
   "source": [
    "## Requirements\n",
    "* \"Hours of coding will save you minutes of design\".  Make a plan first.\n",
    "* You do not _need_ to make a class or define functions, but some functions will make your life easier\n",
    "* You are submitting a **report**, not just a program.  You need to use the template below where your code is interspersed with markdown cells for discussion and explanations. \n",
    "* Yes: in the template you need to restate (not copy) the problem description and _explain_ the solution method.  **Do not skip any sections.**"
   ]
  },
  {
   "cell_type": "markdown",
   "metadata": {},
   "source": [
    "## A note on functions:\n",
    "Defining functions makes your life easier.  For example, take a gross thing you have to do lots of times.  Instead of copying and pasting make a function\n"
   ]
  },
  {
   "cell_type": "code",
   "execution_count": 2,
   "metadata": {},
   "outputs": [],
   "source": [
    "def dist2(a,b):\n",
    "    \"\"\"Returns the distance squared between 1D numpy arrays a and b\"\"\"\n",
    "    return( ((a-b)**2).sum() )"
   ]
  },
  {
   "cell_type": "code",
   "execution_count": 3,
   "metadata": {},
   "outputs": [
    {
     "data": {
      "text/plain": [
       "20"
      ]
     },
     "execution_count": 3,
     "metadata": {},
     "output_type": "execute_result"
    }
   ],
   "source": [
    "a = np.array([1,2])\n",
    "b = np.array([5,4])\n",
    "dist2(a,b)"
   ]
  },
  {
   "cell_type": "markdown",
   "metadata": {},
   "source": [
    "We will soon be using a library that has functions like:\n",
    "* `fit` to train the classifier \n",
    "* `predict` to classify new points"
   ]
  },
  {
   "cell_type": "markdown",
   "metadata": {},
   "source": [
    "## The Iris Dataset\n",
    "This is a famous example in machine learning using 4 measurements as features to distinguish between 3 species of irises.  "
   ]
  },
  {
   "cell_type": "code",
   "execution_count": 4,
   "metadata": {},
   "outputs": [
    {
     "name": "stdout",
     "output_type": "stream",
     "text": [
      "Index(['sepal_length', 'sepal_width', 'petal_length', 'petal_width',\n",
      "       'species'],\n",
      "      dtype='object')\n"
     ]
    }
   ],
   "source": [
    "iris = sns.load_dataset('iris')\n",
    "print(iris.columns)"
   ]
  },
  {
   "cell_type": "markdown",
   "metadata": {},
   "source": [
    "The first four columns are input features, and the _species_ column is the target class.  Let's see what the species are:"
   ]
  },
  {
   "cell_type": "code",
   "execution_count": 5,
   "metadata": {},
   "outputs": [
    {
     "data": {
      "text/plain": [
       "array(['setosa', 'versicolor', 'virginica'], dtype=object)"
      ]
     },
     "execution_count": 5,
     "metadata": {},
     "output_type": "execute_result"
    }
   ],
   "source": [
    "iris.species.unique()"
   ]
  },
  {
   "cell_type": "markdown",
   "metadata": {},
   "source": [
    "For today we will limit ourselves to 2 features and 2 species"
   ]
  },
  {
   "cell_type": "code",
   "execution_count": 6,
   "metadata": {},
   "outputs": [],
   "source": [
    "df = iris.loc[(iris.species!='setosa'),['petal_length','sepal_length','species']].copy()   # only use 2 features and 2 species\n",
    "df.drop_duplicates(subset=['petal_length','sepal_length'], inplace=True) # get rid of annoying duplicated points\n",
    "df.reset_index(drop=True, inplace=True)  # clean up the index"
   ]
  },
  {
   "cell_type": "markdown",
   "metadata": {},
   "source": [
    "Now the df dataframe is your **training set**.  Don't change what I did to make it. (You can obviously remove my markdown cells, but don't change the code when loading your dataset) "
   ]
  },
  {
   "cell_type": "markdown",
   "metadata": {},
   "source": [
    "## Problems\n",
    "1. Consider a new unclassified sample with a petal length of 5 and sepal length of 7.3 \n",
    "  1. Make a dataframe showing the 5 closest neighbors in the training set.  Have columns for features, species, and distance squared.\n",
    "  2. Make a plot showing that these are, in fact, the closest neighbors\n",
    "2. Predict the species of each sample in the csv file.  \n",
    "  1. Display a dataframe showing your results.  Include BOTH the features and predicted species of the new sample, the features and species of the closest neighbor in the training set, and the distance (squared) between them.\n",
    "  2. You may choose the number of neighbors you use to classify\n",
    "  3. Make a convincing plot showing that your predictions are reasonable."
   ]
  },
  {
   "cell_type": "markdown",
   "metadata": {},
   "source": [
    "---\n",
    "# HOMEWORK REPORT TEMPLATE\n",
    "---"
   ]
  },
  {
   "cell_type": "markdown",
   "metadata": {},
   "source": [
    "## Problem Description\n",
    "goes here\n"
   ]
  },
  {
   "cell_type": "markdown",
   "metadata": {},
   "source": [
    "## Solution Method\n",
    "Your plan of attack.  Explain what you are going do to solve the stated problem.\n"
   ]
  },
  {
   "cell_type": "markdown",
   "metadata": {},
   "source": [
    "## Input\n",
    "Load and pre-process data"
   ]
  },
  {
   "cell_type": "markdown",
   "metadata": {},
   "source": [
    "## Analysis\n",
    "Do all the work here\n"
   ]
  },
  {
   "cell_type": "markdown",
   "metadata": {},
   "source": [
    "## Results\n",
    "Produce the lovely plots and/or data tables that best visualization your solution"
   ]
  },
  {
   "cell_type": "markdown",
   "metadata": {},
   "source": [
    "## Discussion\n",
    "Explain and interpret your results.  Explain how your results solve the problem.  Also describe anything interesting you discovered along the way, or lessons learned, or how you overcame problems you encountered.     "
   ]
  }
 ],
 "metadata": {
  "kernelspec": {
   "display_name": "Python 3",
   "language": "python",
   "name": "python3"
  },
  "language_info": {
   "codemirror_mode": {
    "name": "ipython",
    "version": 3
   },
   "file_extension": ".py",
   "mimetype": "text/x-python",
   "name": "python",
   "nbconvert_exporter": "python",
   "pygments_lexer": "ipython3",
   "version": "3.6.10"
  }
 },
 "nbformat": 4,
 "nbformat_minor": 4
}
