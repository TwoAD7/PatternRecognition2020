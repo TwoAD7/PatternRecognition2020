{
 "cells": [
  {
   "cell_type": "markdown",
   "metadata": {},
   "source": [
    "# HW4 - Trees on the Titanic \n",
    "I am giving you two data files:\n",
    "* `titanic_sample_data.csv` has real data from real passengers from the real Titanic  \n",
    "* `titanic_challenge.csv` is data on 20 passengers + a few fake passengers.  \n",
    "\n",
    "Classify the people in titanic_challenge data set and tell me **WHO LIVES AND WHO DIES**\n",
    "\n",
    "\n",
    "## Assignment:\n",
    "1.  Train decision trees on the Titanic sample data to make a plot of score vs max_depth for depths from 1 to 25\n",
    "2.  Train a tree with max_depth=3, then use this tree to:\n",
    "    * Print a nice diagram of the tree.  Make sure it is filled and all features and classes are labeled!\n",
    "    * Classify the passengers in the challenge data file\n",
    "    * Make a plot showing the challenge passengers and decision boundary.  Show the most important feature on the horizontal axis, and the second most important feature on the vertical\n",
    "    * Finally, make a csv file with your predictions.  It must have the same format and row order as the challenge data file with 2 new columns: \n",
    "        * survived : a 0 or 1 for your prediction \n",
    "        * survival_prob : a number from 0 to 1 giving the probability that this passenger survived\n",
    "\n",
    "## Writeup:\n",
    "Submit your python notebook.  Include at least one markdown for every part of the assignment explaining and discussing your results.  Your notebook should be clear and readable to _anyone_. \n",
    "\n",
    "We will use the csv files in class."
   ]
  },
  {
   "cell_type": "markdown",
   "metadata": {},
   "source": [
    "## Datasets\n",
    "I'll start you off with code to load the datasets from my GitHub repo.  You may download them and use local copies if you want, but this is easier."
   ]
  },
  {
   "cell_type": "code",
   "execution_count": 79,
   "metadata": {},
   "outputs": [],
   "source": [
    "import numpy as np\n",
    "import pandas as pd\n",
    "import matplotlib.pyplot as plt\n",
    "import seaborn as sns\n",
    "from sklearn import tree"
   ]
  },
  {
   "cell_type": "code",
   "execution_count": 80,
   "metadata": {},
   "outputs": [],
   "source": [
    "# read csv files straight from my github repo\n",
    "train = pd.read_csv(\"https://raw.githubusercontent.com/mdaugherity/PatternRecognition2020/master/Homework/titanic_sample_data.csv\")\n",
    "pred =  pd.read_csv(\"https://raw.githubusercontent.com/mdaugherity/PatternRecognition2020/master/Homework/titanic_challenge.csv\")"
   ]
  }
 ],
 "metadata": {
  "kernelspec": {
   "display_name": "Python 3",
   "language": "python",
   "name": "python3"
  },
  "language_info": {
   "codemirror_mode": {
    "name": "ipython",
    "version": 3
   },
   "file_extension": ".py",
   "mimetype": "text/x-python",
   "name": "python",
   "nbconvert_exporter": "python",
   "pygments_lexer": "ipython3",
   "version": "3.6.10"
  }
 },
 "nbformat": 4,
 "nbformat_minor": 4
}
